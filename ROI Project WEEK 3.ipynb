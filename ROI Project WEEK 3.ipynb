{
 "cells": [
  {
   "cell_type": "code",
   "execution_count": 2,
   "metadata": {},
   "outputs": [
    {
     "name": "stdout",
     "output_type": "stream",
     "text": [
      "33.84615384615385\n",
      "Invalid, please click BEGIN or END to proceed.\n",
      "Thank you for using Alicia's ROI Calculator\n"
     ]
    }
   ],
   "source": [
    "class ReturnonInvestment: \n",
    "    def __init__(self, rental_income=0, other_income=0, taxes=0, renovations=0, mortgage=0, repairs=0, vacancy=0, insurance=0, hoa=0, \n",
    "                 other_expenses=0, downpayment=0, closing_costs=0, other_purchase_costs=0):\n",
    "        \n",
    "        self.rental_income = rental_income + other_income\n",
    "        self.expenses = taxes + renovations + mortgage + repairs + vacancy + insurance + hoa + other_expenses \n",
    "        self.cashoncash = downpayment + closing_costs + other_purchase_costs\n",
    "\n",
    "    #define Total Monthly Income \n",
    "    def TotalMonthlyIncome(self):\n",
    "        while True:\n",
    "            rental_income = float(input(\"Enter your expected annual rental income.\"))\n",
    "            other_income = float(input(\"Enter any other income expected from this property (for example: sublease, potential ADU, storage rental, laundry machine, etc), if applicable:\"))\n",
    "            self.rental_income = rental_income + other_income\n",
    "            return rental_income + other_income\n",
    "    \n",
    "    #define Total Monthly Expenses\n",
    "    def TotalMonthlyExpense(self):\n",
    "            renovations = float(input(\"Enter the total cost of renovations.\"))\n",
    "            repairs = float(input(\"Enter the estimated annual cost of repairs.\"))\n",
    "            taxes = float(input(\"Enter the yearly property taxes.\"))\n",
    "            mortgage = float(input(\"Enter the annual cost of mortgage.\"))\n",
    "            vacancy = float(input(\"Enter the annual amount put into reserves for vacancy.\"))\n",
    "            insurance = float(input(\"Enter annual cost of home insurance.\"))\n",
    "            hoa = float(input(\"Enter the total annual cost of HOA.\"))\n",
    "            other_expenses = float(input(\"Enter any other expenses, if applicable.\"))\n",
    "            self.expenses = taxes + renovations + mortgage + repairs + vacancy + insurance + hoa + other_expenses\n",
    "            return taxes + renovations + mortgage + repairs + vacancy + insurance + hoa + other_expenses\n",
    "    \n",
    "    #define the Cash on Cash Flow \n",
    "    def CashonCashFlow(self): \n",
    "        downpayment = float(input(\"How much is your downpayment?\"))\n",
    "        closing_costs = float(input(\"How much did you pay in closing costs? (Note: Inspections and Appraisals are considered as closing costs.)\"))\n",
    "        other_purchase_costs = float(input(\"Enter any other costs in reference to the purchase of the property.\"))\n",
    "        self.cashoncash = downpayment + closing_costs + other_purchase_costs\n",
    "        return downpayment + closing_costs + other_purchase_costs\n",
    "    \n",
    "    #define the ROI\n",
    "    def ROIcalculations(self): \n",
    "        TMI = self.rental_income\n",
    "        TME = self.expenses\n",
    "        COC = self.cashoncash\n",
    "\n",
    "        Annual_Profits = TMI - TME\n",
    "        PROI = (Annual_Profits / COC) * 100\n",
    "        print(PROI)\n",
    "        return PROI\n",
    "    \n",
    "    \n",
    "    def runner(self):\n",
    "        while True:\n",
    "            introquestion = input(\"Thank you for choosing Alicia ROI Calculater today! Let's go ahead and click BEGIN or END to proceed. Please enter all data with a valid number.\")\n",
    "            if introquestion == \"END\":\n",
    "                print(\"Thank you for using Alicia's ROI Calculator\")\n",
    "                break\n",
    "            if introquestion == \"BEGIN\":\n",
    "                tmi = self.TotalMonthlyIncome()\n",
    "                tme = self.TotalMonthlyExpense()\n",
    "                coc = self.CashonCashFlow()\n",
    "                roi = self.ROIcalculations()\n",
    "                break\n",
    "            else:\n",
    "                print(\"Invalid, please click BEGIN or END to proceed.\")\n",
    "\n",
    "         \n",
    "projectinvestment = ReturnonInvestment()\n",
    "projectinvestment.runner()\n"
   ]
  }
 ],
 "metadata": {
  "kernelspec": {
   "display_name": "Python 3",
   "language": "python",
   "name": "python3"
  },
  "language_info": {
   "codemirror_mode": {
    "name": "ipython",
    "version": 3
   },
   "file_extension": ".py",
   "mimetype": "text/x-python",
   "name": "python",
   "nbconvert_exporter": "python",
   "pygments_lexer": "ipython3",
   "version": "3.11.5"
  }
 },
 "nbformat": 4,
 "nbformat_minor": 2
}
