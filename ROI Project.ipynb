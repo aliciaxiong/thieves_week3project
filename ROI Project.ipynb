{
 "cells": [
  {
   "cell_type": "code",
   "execution_count": 3,
   "metadata": {},
   "outputs": [],
   "source": [
    "class Investment: \n",
    "    def __init__(self, rental_income, other_income, taxes, renovations, mortgage, repairs, vacancy, insurance, hoa, other_expenses, downpayment, closing_costs, utilities, other_purchase_costs):\n",
    "        self.rental_income = rental_income + other_income\n",
    "        self.expenses = taxes + renovations + mortgage + repairs + vacancy + insurance + hoa + other_expenses \n",
    "        self.cashoncash = downpayment + closing_costs + other_purchase_costs\n",
    "\n",
    "    def TotalMonthlyIncome(self):\n",
    "        rental_income = int(input(\"Enter the annual rental income.\"))\n",
    "        other_income = int(input(\"Enter any other income, if applicable.\"))\n",
    "\n",
    "        TMI = rental_income + other_income\n",
    "        return TMI\n",
    "    \n",
    "    def TotalMonthlyExpense(self):\n",
    "        renovations = int(input(\"Enter total cost of renovations.\"))\n",
    "        repairs = int(input(\"Enter total cost of repairs.\"))\n",
    "        taxes = int(input(\"Enter yearly property taxes.\"))\n",
    "        mortgage = int(input(\"Enter yearly cost of mortgage.\"))\n",
    "        vacancy = int(input(\"Enter yearly reserve costs for vacancy.\"))\n",
    "        insurance = int(input(\"Enter yearly cost of home insurance.\"))\n",
    "        hoa = int(input(\"Enter the yearly cost of HOA.\"))\n",
    "        other_expenses = int(input(\"Enter total cost of other expenses, if applicable.\"))\n",
    "\n",
    "        TME = taxes + renovations + mortgage + repairs + vacancy + insurance + hoa + other_expenses\n",
    "        return TME\n",
    "    \n",
    "    def CashonCashFlow(self): \n",
    "        downpayment = int(input(\"Enter total cost of redownpayment.\"))\n",
    "        closing_costs = int(input(\"Enter total cost of closing costs.\"))\n",
    "        other_purchase_costs = int(input(\"Enter total cost of other purchase costs.\"))\n",
    "        \n",
    "        COC = downpayment + closing_costs + other_purchase_costs\n",
    "        return COC\n",
    "\n",
    "    def ROIcalculations(self): \n",
    "        TMI = self.rental_income\n",
    "        TME = self.expenses\n",
    "        COC = self.cashoncash\n",
    "\n",
    "        Annual_Profits = TMI - TME\n",
    "        EROI = (Annual_Profits / COC)\n",
    "        PROI = EROI * 100\n",
    "        return EROI\n",
    "\n",
    "\n",
    "\n",
    "\n"
   ]
  }
 ],
 "metadata": {
  "kernelspec": {
   "display_name": "Python 3",
   "language": "python",
   "name": "python3"
  },
  "language_info": {
   "codemirror_mode": {
    "name": "ipython",
    "version": 3
   },
   "file_extension": ".py",
   "mimetype": "text/x-python",
   "name": "python",
   "nbconvert_exporter": "python",
   "pygments_lexer": "ipython3",
   "version": "3.11.5"
  }
 },
 "nbformat": 4,
 "nbformat_minor": 2
}
